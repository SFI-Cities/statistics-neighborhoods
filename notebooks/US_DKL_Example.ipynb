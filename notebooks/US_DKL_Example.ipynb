{
 "cells": [
  {
   "cell_type": "code",
   "execution_count": 1,
   "metadata": {
    "collapsed": false
   },
   "outputs": [],
   "source": [
    "import pandas as pd\n",
    "from pandas import DataFrame\n",
    "import numpy as np\n",
    "\n",
    "import seaborn as sns\n",
    "import matplotlib\n",
    "import matplotlib.pyplot as plt\n",
    "\n",
    "%matplotlib inline"
   ]
  },
  {
   "cell_type": "code",
   "execution_count": 3,
   "metadata": {
    "collapsed": false
   },
   "outputs": [],
   "source": [
    "import sys\n",
    "\n",
    "# Point this to folder that has information.py inside.\n",
    "sys.path.append('/Users/joe/Sites/SFI/stats_nhood/statistics_neighborhoods')\n",
    "from information import CensusFrame\n",
    "\n",
    "# If you are making changes to information.py module\n",
    "# %load_ext autoreload\n",
    "# %autoreload 2"
   ]
  },
  {
   "cell_type": "code",
   "execution_count": 4,
   "metadata": {
    "collapsed": false
   },
   "outputs": [],
   "source": [
    "DATA_DIR = '/Users/joe/Dropbox/SFI_CensusData/UnitedStates/'\n",
    "CENSUS_FILE = '2010acs_edu.csv' \n",
    "\n",
    "df = pd.read_csv(DATA_DIR + CENSUS_FILE, dtype={'ID':'str'})\n",
    "df = df.set_index('ID', drop=False)"
   ]
  },
  {
   "cell_type": "code",
   "execution_count": 5,
   "metadata": {
    "collapsed": true
   },
   "outputs": [],
   "source": [
    "# Get columns you want to use as bins, use a regex of some sort\n",
    "edu_regex = 'Edu_Level*'\n",
    "edu_cols = df.filter(regex=edu_regex).columns\n",
    "\n",
    "# Its helpful to add _bin to the column names to ensure you include only those\n",
    "df = df.rename(columns={col:col + '_bin' for col in edu_cols})"
   ]
  },
  {
   "cell_type": "code",
   "execution_count": 6,
   "metadata": {
    "collapsed": false
   },
   "outputs": [
    {
     "data": {
      "text/plain": [
       "Index(['Edu_Level_0_bin', 'Edu_Level_1_bin', 'Edu_Level_2_bin',\n",
       "       'Edu_Level_3_bin', 'Edu_Level_4_bin', 'Edu_Level_5_bin',\n",
       "       'Edu_Level_6_bin', 'Edu_Level_7_bin', 'Edu_Level_8_bin',\n",
       "       'Edu_Level_9_bin', 'Edu_Level_10_bin', 'Edu_Level_11_bin',\n",
       "       'Edu_Level_12_bin', 'Edu_Level_13_bin', 'Edu_Level_14_bin',\n",
       "       'Edu_Level_15_bin'],\n",
       "      dtype='object')"
      ]
     },
     "execution_count": 6,
     "metadata": {},
     "output_type": "execute_result"
    }
   ],
   "source": [
    "# Set up the CensusFrame\n",
    "#   data = the dataframe of the data\n",
    "#   bin_regex = the regex that will match the bin columns\n",
    "#   group_col = the column to group by (e.g. city id).\n",
    "#   tot_col = the column to use as the total for each row. create this from bins, if necessary\n",
    "\n",
    "bin_regex = 'Edu.*_bin$'\n",
    "\n",
    "cf = CensusFrame(\n",
    "        data=df,\n",
    "        bin_regex=bin_regex,\n",
    "        group_col='CITY_NAME',\n",
    "        tot_col='TOTPOP',\n",
    "    )\n",
    "\n",
    "# Make sure you only have the bin columns you want\n",
    "cf.filter(regex=bin_regex).columns"
   ]
  },
  {
   "cell_type": "code",
   "execution_count": null,
   "metadata": {
    "collapsed": true
   },
   "outputs": [],
   "source": [
    "CensusFrame()"
   ]
  },
  {
   "cell_type": "code",
   "execution_count": 7,
   "metadata": {
    "collapsed": false
   },
   "outputs": [],
   "source": [
    "# These functions run most of the calculations you will need\n",
    "\n",
    "def run_information_calculations(censusframe, **kwargs):\n",
    "    _ = censusframe.calculate_group_sums(**kwargs)\n",
    "    _ = censusframe.nhood_weights()\n",
    "    _ = censusframe.dkl_y()\n",
    "    _ = censusframe.entropy_y()\n",
    "    _ = censusframe.entropy_y(conditional=False)\n",
    "    _ = censusframe.entropy_n()\n",
    "    _ = censusframe.mutual_info()\n",
    "    return\n",
    "\n",
    "run_information_calculations(cf,\n",
    "        var_regex = bin_regex, \n",
    "        var_list=['TOTPOP'])"
   ]
  },
  {
   "cell_type": "code",
   "execution_count": 8,
   "metadata": {
    "collapsed": false
   },
   "outputs": [
    {
     "data": {
      "text/html": [
       "<div>\n",
       "<table border=\"1\" class=\"dataframe\">\n",
       "  <thead>\n",
       "    <tr style=\"text-align: right;\">\n",
       "      <th></th>\n",
       "      <th>DKL(n|y)_Edu_Level_0_bin</th>\n",
       "      <th>DKL(n|y)_Edu_Level_10_bin</th>\n",
       "      <th>DKL(n|y)_Edu_Level_11_bin</th>\n",
       "      <th>DKL(n|y)_Edu_Level_12_bin</th>\n",
       "      <th>DKL(n|y)_Edu_Level_13_bin</th>\n",
       "      <th>DKL(n|y)_Edu_Level_14_bin</th>\n",
       "      <th>DKL(n|y)_Edu_Level_15_bin</th>\n",
       "      <th>DKL(n|y)_Edu_Level_1_bin</th>\n",
       "      <th>DKL(n|y)_Edu_Level_2_bin</th>\n",
       "      <th>DKL(n|y)_Edu_Level_3_bin</th>\n",
       "      <th>...</th>\n",
       "      <th>H(n|y)_Edu_Level_3_bin</th>\n",
       "      <th>H(n|y)_Edu_Level_4_bin</th>\n",
       "      <th>H(n|y)_Edu_Level_5_bin</th>\n",
       "      <th>H(n|y)_Edu_Level_6_bin</th>\n",
       "      <th>H(n|y)_Edu_Level_7_bin</th>\n",
       "      <th>H(n|y)_Edu_Level_8_bin</th>\n",
       "      <th>H(n|y)_Edu_Level_9_bin</th>\n",
       "      <th>H(y)</th>\n",
       "      <th>TOTPOP</th>\n",
       "      <th>MI</th>\n",
       "    </tr>\n",
       "    <tr>\n",
       "      <th>CITY_NAME</th>\n",
       "      <th></th>\n",
       "      <th></th>\n",
       "      <th></th>\n",
       "      <th></th>\n",
       "      <th></th>\n",
       "      <th></th>\n",
       "      <th></th>\n",
       "      <th></th>\n",
       "      <th></th>\n",
       "      <th></th>\n",
       "      <th></th>\n",
       "      <th></th>\n",
       "      <th></th>\n",
       "      <th></th>\n",
       "      <th></th>\n",
       "      <th></th>\n",
       "      <th></th>\n",
       "      <th></th>\n",
       "      <th></th>\n",
       "      <th></th>\n",
       "      <th></th>\n",
       "    </tr>\n",
       "  </thead>\n",
       "  <tbody>\n",
       "    <tr>\n",
       "      <th>Abbeville, LA Micro Area</th>\n",
       "      <td>1.037812</td>\n",
       "      <td>0.217105</td>\n",
       "      <td>0.564744</td>\n",
       "      <td>0.301556</td>\n",
       "      <td>0.973252</td>\n",
       "      <td>1.525835</td>\n",
       "      <td>2.771401</td>\n",
       "      <td>0.138149</td>\n",
       "      <td>1.213060</td>\n",
       "      <td>0.494106</td>\n",
       "      <td>...</td>\n",
       "      <td>4.927879</td>\n",
       "      <td>4.952261</td>\n",
       "      <td>4.745133</td>\n",
       "      <td>4.993620</td>\n",
       "      <td>4.562248</td>\n",
       "      <td>5.266463</td>\n",
       "      <td>4.926075</td>\n",
       "      <td>2.970333</td>\n",
       "      <td>57280</td>\n",
       "      <td>0.207153</td>\n",
       "    </tr>\n",
       "    <tr>\n",
       "      <th>Aberdeen, SD Micro Area</th>\n",
       "      <td>2.606836</td>\n",
       "      <td>0.075037</td>\n",
       "      <td>0.095657</td>\n",
       "      <td>0.140041</td>\n",
       "      <td>0.464672</td>\n",
       "      <td>1.015468</td>\n",
       "      <td>2.154919</td>\n",
       "      <td>0.030405</td>\n",
       "      <td>2.802169</td>\n",
       "      <td>0.696954</td>\n",
       "      <td>...</td>\n",
       "      <td>4.429377</td>\n",
       "      <td>4.292800</td>\n",
       "      <td>3.751787</td>\n",
       "      <td>3.367319</td>\n",
       "      <td>3.538777</td>\n",
       "      <td>5.030396</td>\n",
       "      <td>4.923653</td>\n",
       "      <td>2.802520</td>\n",
       "      <td>40058</td>\n",
       "      <td>0.170816</td>\n",
       "    </tr>\n",
       "    <tr>\n",
       "      <th>Aberdeen, WA Micro Area</th>\n",
       "      <td>1.695948</td>\n",
       "      <td>0.133783</td>\n",
       "      <td>0.179883</td>\n",
       "      <td>0.292184</td>\n",
       "      <td>0.677531</td>\n",
       "      <td>1.553511</td>\n",
       "      <td>2.329494</td>\n",
       "      <td>0.074598</td>\n",
       "      <td>1.970248</td>\n",
       "      <td>0.629900</td>\n",
       "      <td>...</td>\n",
       "      <td>5.162775</td>\n",
       "      <td>4.749903</td>\n",
       "      <td>5.254503</td>\n",
       "      <td>5.356209</td>\n",
       "      <td>5.191609</td>\n",
       "      <td>5.706772</td>\n",
       "      <td>5.650933</td>\n",
       "      <td>3.021013</td>\n",
       "      <td>72092</td>\n",
       "      <td>0.211551</td>\n",
       "    </tr>\n",
       "    <tr>\n",
       "      <th>Abilene, TX Metro Area</th>\n",
       "      <td>1.995904</td>\n",
       "      <td>0.173822</td>\n",
       "      <td>0.433036</td>\n",
       "      <td>0.463082</td>\n",
       "      <td>0.824350</td>\n",
       "      <td>2.083184</td>\n",
       "      <td>2.348232</td>\n",
       "      <td>0.157157</td>\n",
       "      <td>1.754856</td>\n",
       "      <td>1.252149</td>\n",
       "      <td>...</td>\n",
       "      <td>5.794527</td>\n",
       "      <td>5.606002</td>\n",
       "      <td>5.708467</td>\n",
       "      <td>5.719960</td>\n",
       "      <td>6.007474</td>\n",
       "      <td>6.865055</td>\n",
       "      <td>6.779138</td>\n",
       "      <td>3.051275</td>\n",
       "      <td>163092</td>\n",
       "      <td>0.350779</td>\n",
       "    </tr>\n",
       "    <tr>\n",
       "      <th>Ada, OK Micro Area</th>\n",
       "      <td>1.894614</td>\n",
       "      <td>0.073756</td>\n",
       "      <td>0.355089</td>\n",
       "      <td>0.181776</td>\n",
       "      <td>0.285433</td>\n",
       "      <td>1.089228</td>\n",
       "      <td>1.464415</td>\n",
       "      <td>0.056870</td>\n",
       "      <td>2.121542</td>\n",
       "      <td>0.766861</td>\n",
       "      <td>...</td>\n",
       "      <td>4.127014</td>\n",
       "      <td>3.932562</td>\n",
       "      <td>4.453291</td>\n",
       "      <td>4.298811</td>\n",
       "      <td>4.139683</td>\n",
       "      <td>4.774106</td>\n",
       "      <td>4.574255</td>\n",
       "      <td>3.002102</td>\n",
       "      <td>36644</td>\n",
       "      <td>0.212329</td>\n",
       "    </tr>\n",
       "  </tbody>\n",
       "</table>\n",
       "<p>5 rows × 52 columns</p>\n",
       "</div>"
      ],
      "text/plain": [
       "                          DKL(n|y)_Edu_Level_0_bin  DKL(n|y)_Edu_Level_10_bin  \\\n",
       "CITY_NAME                                                                       \n",
       "Abbeville, LA Micro Area                  1.037812                   0.217105   \n",
       "Aberdeen, SD Micro Area                   2.606836                   0.075037   \n",
       "Aberdeen, WA Micro Area                   1.695948                   0.133783   \n",
       "Abilene, TX Metro Area                    1.995904                   0.173822   \n",
       "Ada, OK Micro Area                        1.894614                   0.073756   \n",
       "\n",
       "                          DKL(n|y)_Edu_Level_11_bin  \\\n",
       "CITY_NAME                                             \n",
       "Abbeville, LA Micro Area                   0.564744   \n",
       "Aberdeen, SD Micro Area                    0.095657   \n",
       "Aberdeen, WA Micro Area                    0.179883   \n",
       "Abilene, TX Metro Area                     0.433036   \n",
       "Ada, OK Micro Area                         0.355089   \n",
       "\n",
       "                          DKL(n|y)_Edu_Level_12_bin  \\\n",
       "CITY_NAME                                             \n",
       "Abbeville, LA Micro Area                   0.301556   \n",
       "Aberdeen, SD Micro Area                    0.140041   \n",
       "Aberdeen, WA Micro Area                    0.292184   \n",
       "Abilene, TX Metro Area                     0.463082   \n",
       "Ada, OK Micro Area                         0.181776   \n",
       "\n",
       "                          DKL(n|y)_Edu_Level_13_bin  \\\n",
       "CITY_NAME                                             \n",
       "Abbeville, LA Micro Area                   0.973252   \n",
       "Aberdeen, SD Micro Area                    0.464672   \n",
       "Aberdeen, WA Micro Area                    0.677531   \n",
       "Abilene, TX Metro Area                     0.824350   \n",
       "Ada, OK Micro Area                         0.285433   \n",
       "\n",
       "                          DKL(n|y)_Edu_Level_14_bin  \\\n",
       "CITY_NAME                                             \n",
       "Abbeville, LA Micro Area                   1.525835   \n",
       "Aberdeen, SD Micro Area                    1.015468   \n",
       "Aberdeen, WA Micro Area                    1.553511   \n",
       "Abilene, TX Metro Area                     2.083184   \n",
       "Ada, OK Micro Area                         1.089228   \n",
       "\n",
       "                          DKL(n|y)_Edu_Level_15_bin  DKL(n|y)_Edu_Level_1_bin  \\\n",
       "CITY_NAME                                                                       \n",
       "Abbeville, LA Micro Area                   2.771401                  0.138149   \n",
       "Aberdeen, SD Micro Area                    2.154919                  0.030405   \n",
       "Aberdeen, WA Micro Area                    2.329494                  0.074598   \n",
       "Abilene, TX Metro Area                     2.348232                  0.157157   \n",
       "Ada, OK Micro Area                         1.464415                  0.056870   \n",
       "\n",
       "                          DKL(n|y)_Edu_Level_2_bin  DKL(n|y)_Edu_Level_3_bin  \\\n",
       "CITY_NAME                                                                      \n",
       "Abbeville, LA Micro Area                  1.213060                  0.494106   \n",
       "Aberdeen, SD Micro Area                   2.802169                  0.696954   \n",
       "Aberdeen, WA Micro Area                   1.970248                  0.629900   \n",
       "Abilene, TX Metro Area                    1.754856                  1.252149   \n",
       "Ada, OK Micro Area                        2.121542                  0.766861   \n",
       "\n",
       "                            ...     H(n|y)_Edu_Level_3_bin  \\\n",
       "CITY_NAME                   ...                              \n",
       "Abbeville, LA Micro Area    ...                   4.927879   \n",
       "Aberdeen, SD Micro Area     ...                   4.429377   \n",
       "Aberdeen, WA Micro Area     ...                   5.162775   \n",
       "Abilene, TX Metro Area      ...                   5.794527   \n",
       "Ada, OK Micro Area          ...                   4.127014   \n",
       "\n",
       "                          H(n|y)_Edu_Level_4_bin  H(n|y)_Edu_Level_5_bin  \\\n",
       "CITY_NAME                                                                  \n",
       "Abbeville, LA Micro Area                4.952261                4.745133   \n",
       "Aberdeen, SD Micro Area                 4.292800                3.751787   \n",
       "Aberdeen, WA Micro Area                 4.749903                5.254503   \n",
       "Abilene, TX Metro Area                  5.606002                5.708467   \n",
       "Ada, OK Micro Area                      3.932562                4.453291   \n",
       "\n",
       "                          H(n|y)_Edu_Level_6_bin  H(n|y)_Edu_Level_7_bin  \\\n",
       "CITY_NAME                                                                  \n",
       "Abbeville, LA Micro Area                4.993620                4.562248   \n",
       "Aberdeen, SD Micro Area                 3.367319                3.538777   \n",
       "Aberdeen, WA Micro Area                 5.356209                5.191609   \n",
       "Abilene, TX Metro Area                  5.719960                6.007474   \n",
       "Ada, OK Micro Area                      4.298811                4.139683   \n",
       "\n",
       "                          H(n|y)_Edu_Level_8_bin  H(n|y)_Edu_Level_9_bin  \\\n",
       "CITY_NAME                                                                  \n",
       "Abbeville, LA Micro Area                5.266463                4.926075   \n",
       "Aberdeen, SD Micro Area                 5.030396                4.923653   \n",
       "Aberdeen, WA Micro Area                 5.706772                5.650933   \n",
       "Abilene, TX Metro Area                  6.865055                6.779138   \n",
       "Ada, OK Micro Area                      4.774106                4.574255   \n",
       "\n",
       "                              H(y)  TOTPOP        MI  \n",
       "CITY_NAME                                             \n",
       "Abbeville, LA Micro Area  2.970333   57280  0.207153  \n",
       "Aberdeen, SD Micro Area   2.802520   40058  0.170816  \n",
       "Aberdeen, WA Micro Area   3.021013   72092  0.211551  \n",
       "Abilene, TX Metro Area    3.051275  163092  0.350779  \n",
       "Ada, OK Micro Area        3.002102   36644  0.212329  \n",
       "\n",
       "[5 rows x 52 columns]"
      ]
     },
     "execution_count": 8,
     "metadata": {},
     "output_type": "execute_result"
    }
   ],
   "source": [
    "# Now you can access either neighborhood or city level data with information theory values in the columns:\n",
    "\n",
    "# cf.nhood_df (neighborhood level data)\n",
    "# cf.city_df (city level data - the index is whatever you passed to group_col)\n",
    "# e.g.:\n",
    "cf.city_df.head()"
   ]
  },
  {
   "cell_type": "code",
   "execution_count": 9,
   "metadata": {
    "collapsed": false
   },
   "outputs": [
    {
     "data": {
      "text/plain": [
       "<matplotlib.axes._subplots.AxesSubplot at 0x1040f89e8>"
      ]
     },
     "execution_count": 9,
     "metadata": {},
     "output_type": "execute_result"
    },
    {
     "data": {
      "image/png": "[encoded data removed]",
      "text/plain": [
       "<matplotlib.figure.Figure at 0x106496d30>"
      ]
     },
     "metadata": {},
     "output_type": "display_data"
    }
   ],
   "source": [
    "# Plot things like they are normal pandas dataframes (because they are)\n",
    "cf.city_df.plot('MI', 'TOTPOP', kind='scatter', logy=True)"
   ]
  },
  {
   "cell_type": "code",
   "execution_count": 33,
   "metadata": {
    "collapsed": false
   },
   "outputs": [],
   "source": [
    "# Export Neighborhood dataframes to a csv\n",
    "# cf.nhood_df.to_csv(DATA_DIR + 'USA_dkl_edu.csv')"
   ]
  },
  {
   "cell_type": "code",
   "execution_count": null,
   "metadata": {
    "collapsed": true
   },
   "outputs": [],
   "source": []
  }
 ],
 "metadata": {
  "kernelspec": {
   "display_name": "Python 3",
   "language": "python",
   "name": "python3"
  },
  "language_info": {
   "codemirror_mode": {
    "name": "ipython",
    "version": 3
   },
   "file_extension": ".py",
   "mimetype": "text/x-python",
   "name": "python",
   "nbconvert_exporter": "python",
   "pygments_lexer": "ipython3",
   "version": "3.4.1"
  }
 },
 "nbformat": 4,
 "nbformat_minor": 0
}
